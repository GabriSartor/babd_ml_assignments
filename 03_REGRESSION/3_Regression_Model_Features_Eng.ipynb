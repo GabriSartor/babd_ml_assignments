{
 "cells": [
  {
   "cell_type": "code",
   "execution_count": 202,
   "metadata": {},
   "outputs": [],
   "source": [
    "import pandas as pd\n",
    "import numpy as np\n",
    "\n",
    "\n",
    "pd.set_option('display.max_columns', None)"
   ]
  },
  {
   "cell_type": "code",
   "execution_count": 203,
   "metadata": {},
   "outputs": [],
   "source": [
    "df=pd.read_csv(\"model_post_eda_bicodec.csv\")\n",
    "#msno.matrix(df)"
   ]
  },
  {
   "cell_type": "code",
   "execution_count": 204,
   "metadata": {},
   "outputs": [
    {
     "data": {
      "text/html": [
       "<div>\n",
       "<style scoped>\n",
       "    .dataframe tbody tr th:only-of-type {\n",
       "        vertical-align: middle;\n",
       "    }\n",
       "\n",
       "    .dataframe tbody tr th {\n",
       "        vertical-align: top;\n",
       "    }\n",
       "\n",
       "    .dataframe thead th {\n",
       "        text-align: right;\n",
       "    }\n",
       "</style>\n",
       "<table border=\"1\" class=\"dataframe\">\n",
       "  <thead>\n",
       "    <tr style=\"text-align: right;\">\n",
       "      <th></th>\n",
       "      <th>diff_resolution</th>\n",
       "      <th>diff_framerate</th>\n",
       "      <th>diff_bitrate</th>\n",
       "      <th>diff_ratio</th>\n",
       "      <th>frames</th>\n",
       "      <th>umem</th>\n",
       "      <th>duration</th>\n",
       "      <th>size</th>\n",
       "      <th>codec_concat_flv-h264</th>\n",
       "      <th>codec_concat_vp8-vp8</th>\n",
       "      <th>codec_concat_flv-mpeg4</th>\n",
       "      <th>codec_concat_flv-vp8</th>\n",
       "      <th>codec_concat_h264-flv</th>\n",
       "      <th>codec_concat_h264-h264</th>\n",
       "      <th>codec_concat_h264-mpeg4</th>\n",
       "      <th>codec_concat_h264-vp8</th>\n",
       "      <th>codec_concat_mpeg4-h264</th>\n",
       "      <th>codec_concat_mpeg4-mpeg4</th>\n",
       "      <th>codec_concat_mpeg4-vp8</th>\n",
       "      <th>codec_concat_vp8-flv</th>\n",
       "      <th>codec_concat_vp8-h264</th>\n",
       "      <th>codec_concat_vp8-mpeg4</th>\n",
       "      <th>utime</th>\n",
       "    </tr>\n",
       "  </thead>\n",
       "  <tbody>\n",
       "    <tr>\n",
       "      <th>0</th>\n",
       "      <td>-844800</td>\n",
       "      <td>-4.937442</td>\n",
       "      <td>-13097</td>\n",
       "      <td>-0.444444</td>\n",
       "      <td>16146</td>\n",
       "      <td>218932</td>\n",
       "      <td>645.840000</td>\n",
       "      <td>7742262</td>\n",
       "      <td>0</td>\n",
       "      <td>1</td>\n",
       "      <td>0</td>\n",
       "      <td>0</td>\n",
       "      <td>0</td>\n",
       "      <td>0</td>\n",
       "      <td>0</td>\n",
       "      <td>0</td>\n",
       "      <td>0</td>\n",
       "      <td>0</td>\n",
       "      <td>0</td>\n",
       "      <td>0</td>\n",
       "      <td>0</td>\n",
       "      <td>0</td>\n",
       "      <td>15.929</td>\n",
       "    </tr>\n",
       "    <tr>\n",
       "      <th>1</th>\n",
       "      <td>0</td>\n",
       "      <td>-6.970000</td>\n",
       "      <td>5179648</td>\n",
       "      <td>0.000000</td>\n",
       "      <td>7830</td>\n",
       "      <td>218932</td>\n",
       "      <td>326.588320</td>\n",
       "      <td>244926878</td>\n",
       "      <td>0</td>\n",
       "      <td>0</td>\n",
       "      <td>0</td>\n",
       "      <td>0</td>\n",
       "      <td>1</td>\n",
       "      <td>0</td>\n",
       "      <td>0</td>\n",
       "      <td>0</td>\n",
       "      <td>0</td>\n",
       "      <td>0</td>\n",
       "      <td>0</td>\n",
       "      <td>0</td>\n",
       "      <td>0</td>\n",
       "      <td>0</td>\n",
       "      <td>10.417</td>\n",
       "    </tr>\n",
       "    <tr>\n",
       "      <th>2</th>\n",
       "      <td>-1996800</td>\n",
       "      <td>1.000000</td>\n",
       "      <td>-77983</td>\n",
       "      <td>-0.444444</td>\n",
       "      <td>11826</td>\n",
       "      <td>645544</td>\n",
       "      <td>473.000000</td>\n",
       "      <td>9697521</td>\n",
       "      <td>0</td>\n",
       "      <td>0</td>\n",
       "      <td>0</td>\n",
       "      <td>0</td>\n",
       "      <td>0</td>\n",
       "      <td>1</td>\n",
       "      <td>0</td>\n",
       "      <td>0</td>\n",
       "      <td>0</td>\n",
       "      <td>0</td>\n",
       "      <td>0</td>\n",
       "      <td>0</td>\n",
       "      <td>0</td>\n",
       "      <td>0</td>\n",
       "      <td>45.327</td>\n",
       "    </tr>\n",
       "    <tr>\n",
       "      <th>3</th>\n",
       "      <td>-1152000</td>\n",
       "      <td>15.002232</td>\n",
       "      <td>-947574</td>\n",
       "      <td>0.000000</td>\n",
       "      <td>13441</td>\n",
       "      <td>655172</td>\n",
       "      <td>448.575000</td>\n",
       "      <td>115083398</td>\n",
       "      <td>0</td>\n",
       "      <td>0</td>\n",
       "      <td>0</td>\n",
       "      <td>0</td>\n",
       "      <td>0</td>\n",
       "      <td>0</td>\n",
       "      <td>0</td>\n",
       "      <td>0</td>\n",
       "      <td>0</td>\n",
       "      <td>0</td>\n",
       "      <td>0</td>\n",
       "      <td>0</td>\n",
       "      <td>1</td>\n",
       "      <td>0</td>\n",
       "      <td>102.842</td>\n",
       "    </tr>\n",
       "    <tr>\n",
       "      <th>4</th>\n",
       "      <td>-1996800</td>\n",
       "      <td>0.000000</td>\n",
       "      <td>-569724</td>\n",
       "      <td>-0.444444</td>\n",
       "      <td>6382</td>\n",
       "      <td>216820</td>\n",
       "      <td>255.280000</td>\n",
       "      <td>7986338</td>\n",
       "      <td>0</td>\n",
       "      <td>0</td>\n",
       "      <td>1</td>\n",
       "      <td>0</td>\n",
       "      <td>0</td>\n",
       "      <td>0</td>\n",
       "      <td>0</td>\n",
       "      <td>0</td>\n",
       "      <td>0</td>\n",
       "      <td>0</td>\n",
       "      <td>0</td>\n",
       "      <td>0</td>\n",
       "      <td>0</td>\n",
       "      <td>0</td>\n",
       "      <td>14.937</td>\n",
       "    </tr>\n",
       "    <tr>\n",
       "      <th>...</th>\n",
       "      <td>...</td>\n",
       "      <td>...</td>\n",
       "      <td>...</td>\n",
       "      <td>...</td>\n",
       "      <td>...</td>\n",
       "      <td>...</td>\n",
       "      <td>...</td>\n",
       "      <td>...</td>\n",
       "      <td>...</td>\n",
       "      <td>...</td>\n",
       "      <td>...</td>\n",
       "      <td>...</td>\n",
       "      <td>...</td>\n",
       "      <td>...</td>\n",
       "      <td>...</td>\n",
       "      <td>...</td>\n",
       "      <td>...</td>\n",
       "      <td>...</td>\n",
       "      <td>...</td>\n",
       "      <td>...</td>\n",
       "      <td>...</td>\n",
       "      <td>...</td>\n",
       "      <td>...</td>\n",
       "    </tr>\n",
       "    <tr>\n",
       "      <th>11995</th>\n",
       "      <td>-896256</td>\n",
       "      <td>-22.970000</td>\n",
       "      <td>-4945662</td>\n",
       "      <td>-0.555556</td>\n",
       "      <td>344</td>\n",
       "      <td>324540</td>\n",
       "      <td>49.178333</td>\n",
       "      <td>334032</td>\n",
       "      <td>0</td>\n",
       "      <td>0</td>\n",
       "      <td>0</td>\n",
       "      <td>0</td>\n",
       "      <td>0</td>\n",
       "      <td>0</td>\n",
       "      <td>0</td>\n",
       "      <td>0</td>\n",
       "      <td>1</td>\n",
       "      <td>0</td>\n",
       "      <td>0</td>\n",
       "      <td>0</td>\n",
       "      <td>0</td>\n",
       "      <td>0</td>\n",
       "      <td>34.462</td>\n",
       "    </tr>\n",
       "    <tr>\n",
       "      <th>11996</th>\n",
       "      <td>-1900800</td>\n",
       "      <td>14.000000</td>\n",
       "      <td>-129959</td>\n",
       "      <td>-0.444444</td>\n",
       "      <td>2417</td>\n",
       "      <td>654236</td>\n",
       "      <td>80.536000</td>\n",
       "      <td>6946645</td>\n",
       "      <td>0</td>\n",
       "      <td>0</td>\n",
       "      <td>0</td>\n",
       "      <td>0</td>\n",
       "      <td>0</td>\n",
       "      <td>1</td>\n",
       "      <td>0</td>\n",
       "      <td>0</td>\n",
       "      <td>0</td>\n",
       "      <td>0</td>\n",
       "      <td>0</td>\n",
       "      <td>0</td>\n",
       "      <td>0</td>\n",
       "      <td>0</td>\n",
       "      <td>68.984</td>\n",
       "    </tr>\n",
       "    <tr>\n",
       "      <th>11997</th>\n",
       "      <td>0</td>\n",
       "      <td>-16.487333</td>\n",
       "      <td>-25925</td>\n",
       "      <td>0.000000</td>\n",
       "      <td>10112</td>\n",
       "      <td>327492</td>\n",
       "      <td>750.433000</td>\n",
       "      <td>74487589</td>\n",
       "      <td>0</td>\n",
       "      <td>0</td>\n",
       "      <td>0</td>\n",
       "      <td>0</td>\n",
       "      <td>0</td>\n",
       "      <td>0</td>\n",
       "      <td>0</td>\n",
       "      <td>0</td>\n",
       "      <td>0</td>\n",
       "      <td>0</td>\n",
       "      <td>0</td>\n",
       "      <td>0</td>\n",
       "      <td>1</td>\n",
       "      <td>0</td>\n",
       "      <td>33.402</td>\n",
       "    </tr>\n",
       "    <tr>\n",
       "      <th>11998</th>\n",
       "      <td>-844800</td>\n",
       "      <td>0.000000</td>\n",
       "      <td>-77983</td>\n",
       "      <td>-0.444444</td>\n",
       "      <td>11826</td>\n",
       "      <td>318500</td>\n",
       "      <td>473.000000</td>\n",
       "      <td>9697521</td>\n",
       "      <td>0</td>\n",
       "      <td>0</td>\n",
       "      <td>0</td>\n",
       "      <td>0</td>\n",
       "      <td>0</td>\n",
       "      <td>1</td>\n",
       "      <td>0</td>\n",
       "      <td>0</td>\n",
       "      <td>0</td>\n",
       "      <td>0</td>\n",
       "      <td>0</td>\n",
       "      <td>0</td>\n",
       "      <td>0</td>\n",
       "      <td>0</td>\n",
       "      <td>30.266</td>\n",
       "    </tr>\n",
       "    <tr>\n",
       "      <th>11999</th>\n",
       "      <td>-1900800</td>\n",
       "      <td>6.029411</td>\n",
       "      <td>77895</td>\n",
       "      <td>-0.444444</td>\n",
       "      <td>1021</td>\n",
       "      <td>165700</td>\n",
       "      <td>34.168000</td>\n",
       "      <td>798230</td>\n",
       "      <td>0</td>\n",
       "      <td>0</td>\n",
       "      <td>0</td>\n",
       "      <td>0</td>\n",
       "      <td>0</td>\n",
       "      <td>0</td>\n",
       "      <td>0</td>\n",
       "      <td>0</td>\n",
       "      <td>0</td>\n",
       "      <td>0</td>\n",
       "      <td>0</td>\n",
       "      <td>0</td>\n",
       "      <td>0</td>\n",
       "      <td>1</td>\n",
       "      <td>12.113</td>\n",
       "    </tr>\n",
       "  </tbody>\n",
       "</table>\n",
       "<p>12000 rows × 23 columns</p>\n",
       "</div>"
      ],
      "text/plain": [
       "       diff_resolution  diff_framerate  diff_bitrate  diff_ratio  frames  \\\n",
       "0              -844800       -4.937442        -13097   -0.444444   16146   \n",
       "1                    0       -6.970000       5179648    0.000000    7830   \n",
       "2             -1996800        1.000000        -77983   -0.444444   11826   \n",
       "3             -1152000       15.002232       -947574    0.000000   13441   \n",
       "4             -1996800        0.000000       -569724   -0.444444    6382   \n",
       "...                ...             ...           ...         ...     ...   \n",
       "11995          -896256      -22.970000      -4945662   -0.555556     344   \n",
       "11996         -1900800       14.000000       -129959   -0.444444    2417   \n",
       "11997                0      -16.487333        -25925    0.000000   10112   \n",
       "11998          -844800        0.000000        -77983   -0.444444   11826   \n",
       "11999         -1900800        6.029411         77895   -0.444444    1021   \n",
       "\n",
       "         umem    duration       size  codec_concat_flv-h264  \\\n",
       "0      218932  645.840000    7742262                      0   \n",
       "1      218932  326.588320  244926878                      0   \n",
       "2      645544  473.000000    9697521                      0   \n",
       "3      655172  448.575000  115083398                      0   \n",
       "4      216820  255.280000    7986338                      0   \n",
       "...       ...         ...        ...                    ...   \n",
       "11995  324540   49.178333     334032                      0   \n",
       "11996  654236   80.536000    6946645                      0   \n",
       "11997  327492  750.433000   74487589                      0   \n",
       "11998  318500  473.000000    9697521                      0   \n",
       "11999  165700   34.168000     798230                      0   \n",
       "\n",
       "       codec_concat_vp8-vp8  codec_concat_flv-mpeg4  codec_concat_flv-vp8  \\\n",
       "0                         1                       0                     0   \n",
       "1                         0                       0                     0   \n",
       "2                         0                       0                     0   \n",
       "3                         0                       0                     0   \n",
       "4                         0                       1                     0   \n",
       "...                     ...                     ...                   ...   \n",
       "11995                     0                       0                     0   \n",
       "11996                     0                       0                     0   \n",
       "11997                     0                       0                     0   \n",
       "11998                     0                       0                     0   \n",
       "11999                     0                       0                     0   \n",
       "\n",
       "       codec_concat_h264-flv  codec_concat_h264-h264  codec_concat_h264-mpeg4  \\\n",
       "0                          0                       0                        0   \n",
       "1                          1                       0                        0   \n",
       "2                          0                       1                        0   \n",
       "3                          0                       0                        0   \n",
       "4                          0                       0                        0   \n",
       "...                      ...                     ...                      ...   \n",
       "11995                      0                       0                        0   \n",
       "11996                      0                       1                        0   \n",
       "11997                      0                       0                        0   \n",
       "11998                      0                       1                        0   \n",
       "11999                      0                       0                        0   \n",
       "\n",
       "       codec_concat_h264-vp8  codec_concat_mpeg4-h264  \\\n",
       "0                          0                        0   \n",
       "1                          0                        0   \n",
       "2                          0                        0   \n",
       "3                          0                        0   \n",
       "4                          0                        0   \n",
       "...                      ...                      ...   \n",
       "11995                      0                        1   \n",
       "11996                      0                        0   \n",
       "11997                      0                        0   \n",
       "11998                      0                        0   \n",
       "11999                      0                        0   \n",
       "\n",
       "       codec_concat_mpeg4-mpeg4  codec_concat_mpeg4-vp8  codec_concat_vp8-flv  \\\n",
       "0                             0                       0                     0   \n",
       "1                             0                       0                     0   \n",
       "2                             0                       0                     0   \n",
       "3                             0                       0                     0   \n",
       "4                             0                       0                     0   \n",
       "...                         ...                     ...                   ...   \n",
       "11995                         0                       0                     0   \n",
       "11996                         0                       0                     0   \n",
       "11997                         0                       0                     0   \n",
       "11998                         0                       0                     0   \n",
       "11999                         0                       0                     0   \n",
       "\n",
       "       codec_concat_vp8-h264  codec_concat_vp8-mpeg4    utime  \n",
       "0                          0                       0   15.929  \n",
       "1                          0                       0   10.417  \n",
       "2                          0                       0   45.327  \n",
       "3                          1                       0  102.842  \n",
       "4                          0                       0   14.937  \n",
       "...                      ...                     ...      ...  \n",
       "11995                      0                       0   34.462  \n",
       "11996                      0                       0   68.984  \n",
       "11997                      1                       0   33.402  \n",
       "11998                      0                       0   30.266  \n",
       "11999                      0                       1   12.113  \n",
       "\n",
       "[12000 rows x 23 columns]"
      ]
     },
     "execution_count": 204,
     "metadata": {},
     "output_type": "execute_result"
    }
   ],
   "source": [
    "df"
   ]
  },
  {
   "cell_type": "code",
   "execution_count": 205,
   "metadata": {},
   "outputs": [],
   "source": [
    "y = df['utime']\n",
    "X = df.drop(\"utime\",axis=1)\n",
    "\n",
    "scaler = StandardScaler()\n",
    "X = scaler.fit_transform(X)"
   ]
  },
  {
   "cell_type": "code",
   "execution_count": 206,
   "metadata": {},
   "outputs": [],
   "source": [
    "train_X, test_X, train_y, test_y = train_test_split(X, y,\n",
    "                      test_size = 0.3, random_state = 123)"
   ]
  },
  {
   "cell_type": "code",
   "execution_count": 207,
   "metadata": {},
   "outputs": [],
   "source": [
    "# manual\n",
    "xgb_r = xg.XGBRegressor(objective ='reg:squarederror', colsample_bytree = 0.9, learning_rate = 0.1, \n",
    "                max_depth = 10, alpha = 10, n_estimators = 2000, gamma = 0, min_child_weight = 15, subsample = 0.7)"
   ]
  },
  {
   "cell_type": "code",
   "execution_count": 208,
   "metadata": {},
   "outputs": [],
   "source": [
    "# Fitting the model\n",
    "xgb_r.fit(train_X, train_y)\n",
    "  \n",
    "# Predict the model\n",
    "pred = xgb_r.predict(test_X)"
   ]
  },
  {
   "cell_type": "code",
   "execution_count": 209,
   "metadata": {},
   "outputs": [],
   "source": [
    "imp=xgb_r.feature_importances_"
   ]
  },
  {
   "cell_type": "code",
   "execution_count": 210,
   "metadata": {},
   "outputs": [
    {
     "name": "stdout",
     "output_type": "stream",
     "text": [
      "Features Importance:\n",
      "\n",
      "diff_resolution: \n",
      "0.04\n",
      "\n",
      "diff_framerate: \n",
      "0.03\n",
      "\n",
      "diff_bitrate: \n",
      "0.12\n",
      "\n",
      "diff_ratio: \n",
      "0.03\n",
      "\n",
      "frames: \n",
      "0.04\n",
      "\n",
      "umem: \n",
      "0.26\n",
      "\n",
      "duration: \n",
      "0.04\n",
      "\n",
      "size: \n",
      "0.06\n",
      "\n",
      "codec_concat_flv-h264: \n",
      "0.01\n",
      "\n",
      "codec_concat_vp8-vp8: \n",
      "0.08\n",
      "\n",
      "codec_concat_flv-mpeg4: \n",
      "0.02\n",
      "\n",
      "codec_concat_flv-vp8: \n",
      "0.05\n",
      "\n",
      "codec_concat_h264-flv: \n",
      "0.05\n",
      "\n",
      "codec_concat_h264-h264: \n",
      "0.02\n",
      "\n",
      "codec_concat_h264-mpeg4: \n",
      "0.01\n",
      "\n",
      "codec_concat_h264-vp8: \n",
      "0.08\n",
      "\n",
      "codec_concat_mpeg4-h264: \n",
      "0.0\n",
      "\n",
      "codec_concat_mpeg4-mpeg4: \n",
      "0.02\n",
      "\n",
      "codec_concat_mpeg4-vp8: \n",
      "0.01\n",
      "\n",
      "codec_concat_vp8-flv: \n",
      "0.0\n",
      "\n",
      "codec_concat_vp8-h264: \n",
      "0.02\n",
      "\n",
      "codec_concat_vp8-mpeg4: \n",
      "0.01\n",
      "\n"
     ]
    }
   ],
   "source": [
    "print(\"Features Importance:\\n\")\n",
    "\n",
    "for i in range(len(df.columns[:-1])):\n",
    "    print(df.columns[i]+\": \\n\"+str(round(imp[i],2))+\"\\n\")"
   ]
  },
  {
   "cell_type": "code",
   "execution_count": 211,
   "metadata": {},
   "outputs": [
    {
     "data": {
      "text/plain": [
       "Index(['diff_resolution', 'diff_framerate', 'diff_bitrate', 'diff_ratio',\n",
       "       'frames', 'umem', 'duration', 'size', 'codec_concat_flv-h264',\n",
       "       'codec_concat_vp8-vp8'],\n",
       "      dtype='object')"
      ]
     },
     "execution_count": 211,
     "metadata": {},
     "output_type": "execute_result"
    }
   ],
   "source": [
    "df.columns[:10]"
   ]
  },
  {
   "cell_type": "code",
   "execution_count": 212,
   "metadata": {},
   "outputs": [
    {
     "data": {
      "image/png": "[encoded data removed]",
      "text/plain": [
       "<Figure size 432x288 with 1 Axes>"
      ]
     },
     "metadata": {},
     "output_type": "display_data"
    }
   ],
   "source": [
    "from xgboost import plot_importance\n",
    "from matplotlib import pyplot\n",
    "\n",
    "plot_importance(xgb_r)\n",
    "pyplot.show()"
   ]
  },
  {
   "cell_type": "code",
   "execution_count": null,
   "metadata": {},
   "outputs": [],
   "source": []
  },
  {
   "cell_type": "code",
   "execution_count": null,
   "metadata": {},
   "outputs": [],
   "source": []
  },
  {
   "cell_type": "code",
   "execution_count": 69,
   "metadata": {},
   "outputs": [
    {
     "name": "stdout",
     "output_type": "stream",
     "text": [
      "Score Train:\n",
      "MAE train:  0.7807529140520097\n",
      "MSE train:  1.1540656906931408\n",
      "RMSE train:  1.0742744950398575\n",
      "r2:  0.9989427468318363\n",
      "\n",
      "\n",
      "Score test:\n",
      "MAE test:  1.6185275793083511\n",
      "MSE test:  8.190364402620187\n",
      "RMSE test:  2.8618812698328675\n",
      "r2:  0.9926715918337378\n"
     ]
    }
   ],
   "source": [
    "#DIFF + Classic dummies\n",
    "from sklearn import metrics\n",
    "\n",
    "print(\"Score Train:\")\n",
    "print(\"MAE train: \", metrics.mean_absolute_error(train_y, xgb_r.predict(train_X)))\n",
    "print(\"MSE train: \",metrics.mean_squared_error(train_y, xgb_r.predict(train_X)))\n",
    "print(\"RMSE train: \",np.sqrt(metrics.mean_squared_error(train_y, xgb_r.predict(train_X))))\n",
    "print(\"r2: \",np.sqrt(metrics.r2_score(train_y, xgb_r.predict(train_X))))\n",
    "print(\"\\n\")\n",
    "print(\"Score test:\")\n",
    "print(\"MAE test: \", metrics.mean_absolute_error(test_y, xgb_r.predict(test_X))) \n",
    "print(\"MSE test: \",metrics.mean_squared_error(test_y, xgb_r.predict(test_X)))\n",
    "print(\"RMSE test: \",np.sqrt(metrics.mean_squared_error(test_y, xgb_r.predict(test_X))))\n",
    "print(\"r2: \",np.sqrt(metrics.r2_score(test_y, xgb_r.predict(test_X))))"
   ]
  },
  {
   "cell_type": "code",
   "execution_count": 174,
   "metadata": {},
   "outputs": [
    {
     "name": "stdout",
     "output_type": "stream",
     "text": [
      "Score Train:\n",
      "MAE train:  0.4882624397859119\n",
      "MSE train:  0.4466091527140494\n",
      "RMSE train:  0.6682882257784057\n",
      "r2:  0.9995921780486662\n",
      "\n",
      "\n",
      "Score test:\n",
      "MAE test:  1.5563310982661778\n",
      "MSE test:  8.295800723485563\n",
      "RMSE test:  2.880243170894701\n",
      "r2:  0.9924604383782256\n"
     ]
    }
   ],
   "source": [
    "#DIFF + Classic dummies 30%\n",
    "from sklearn import metrics\n",
    "\n",
    "print(\"Score Train:\")\n",
    "print(\"MAE train: \", metrics.mean_absolute_error(train_y, xgb_r.predict(train_X)))\n",
    "print(\"MSE train: \",metrics.mean_squared_error(train_y, xgb_r.predict(train_X)))\n",
    "print(\"RMSE train: \",np.sqrt(metrics.mean_squared_error(train_y, xgb_r.predict(train_X))))\n",
    "print(\"r2: \",np.sqrt(metrics.r2_score(train_y, xgb_r.predict(train_X))))\n",
    "print(\"\\n\")\n",
    "print(\"Score test:\")\n",
    "print(\"MAE test: \", metrics.mean_absolute_error(test_y, xgb_r.predict(test_X))) \n",
    "print(\"MSE test: \",metrics.mean_squared_error(test_y, xgb_r.predict(test_X)))\n",
    "print(\"RMSE test: \",np.sqrt(metrics.mean_squared_error(test_y, xgb_r.predict(test_X))))\n",
    "print(\"r2: \",np.sqrt(metrics.r2_score(test_y, xgb_r.predict(test_X))))"
   ]
  },
  {
   "cell_type": "code",
   "execution_count": 153,
   "metadata": {
    "scrolled": true
   },
   "outputs": [
    {
     "name": "stdout",
     "output_type": "stream",
     "text": [
      "Score Train:\n",
      "MAE train:  0.5411662035687763\n",
      "MSE train:  0.5621882440480624\n",
      "RMSE train:  0.7497921338931627\n",
      "r2:  0.9994866096890528\n",
      "\n",
      "\n",
      "Score test:\n",
      "MAE test:  1.8495928203614551\n",
      "MSE test:  11.135594844649914\n",
      "RMSE test:  3.3370038724355586\n",
      "r2:  0.9898663241097244\n"
     ]
    }
   ],
   "source": [
    "#No duration and size + classic dummies + DIFF\n",
    "from sklearn import metrics\n",
    "\n",
    "print(\"Score Train:\")\n",
    "print(\"MAE train: \", metrics.mean_absolute_error(train_y, xgb_r.predict(train_X)))\n",
    "print(\"MSE train: \",metrics.mean_squared_error(train_y, xgb_r.predict(train_X)))\n",
    "print(\"RMSE train: \",np.sqrt(metrics.mean_squared_error(train_y, xgb_r.predict(train_X))))\n",
    "print(\"r2: \",np.sqrt(metrics.r2_score(train_y, xgb_r.predict(train_X))))\n",
    "print(\"\\n\")\n",
    "print(\"Score test:\")\n",
    "print(\"MAE test: \", metrics.mean_absolute_error(test_y, xgb_r.predict(test_X))) \n",
    "print(\"MSE test: \",metrics.mean_squared_error(test_y, xgb_r.predict(test_X)))\n",
    "print(\"RMSE test: \",np.sqrt(metrics.mean_squared_error(test_y, xgb_r.predict(test_X))))\n",
    "print(\"r2: \",np.sqrt(metrics.r2_score(test_y, xgb_r.predict(test_X))))"
   ]
  },
  {
   "cell_type": "code",
   "execution_count": 185,
   "metadata": {},
   "outputs": [
    {
     "name": "stdout",
     "output_type": "stream",
     "text": [
      "Score Train:\n",
      "MAE train:  0.48080005833217077\n",
      "MSE train:  0.4342126767383216\n",
      "RMSE train:  0.6589481593709187\n",
      "r2:  0.999603500158072\n",
      "\n",
      "\n",
      "Score test:\n",
      "MAE test:  1.5477082344712152\n",
      "MSE test:  8.220053595844487\n",
      "RMSE test:  2.8670635841997796\n",
      "r2:  0.992529539538777\n"
     ]
    }
   ],
   "source": [
    "#DIFF + Classic dummies 30% (NO FLV, YES VP8)\n",
    "from sklearn import metrics\n",
    "\n",
    "print(\"Score Train:\")\n",
    "print(\"MAE train: \", metrics.mean_absolute_error(train_y, xgb_r.predict(train_X)))\n",
    "print(\"MSE train: \",metrics.mean_squared_error(train_y, xgb_r.predict(train_X)))\n",
    "print(\"RMSE train: \",np.sqrt(metrics.mean_squared_error(train_y, xgb_r.predict(train_X))))\n",
    "print(\"r2: \",np.sqrt(metrics.r2_score(train_y, xgb_r.predict(train_X))))\n",
    "print(\"\\n\")\n",
    "print(\"Score test:\")\n",
    "print(\"MAE test: \", metrics.mean_absolute_error(test_y, xgb_r.predict(test_X))) \n",
    "print(\"MSE test: \",metrics.mean_squared_error(test_y, xgb_r.predict(test_X)))\n",
    "print(\"RMSE test: \",np.sqrt(metrics.mean_squared_error(test_y, xgb_r.predict(test_X))))\n",
    "print(\"r2: \",np.sqrt(metrics.r2_score(test_y, xgb_r.predict(test_X))))"
   ]
  },
  {
   "cell_type": "code",
   "execution_count": 213,
   "metadata": {},
   "outputs": [
    {
     "data": {
      "text/plain": [
       "Index(['diff_resolution', 'diff_framerate', 'diff_bitrate', 'diff_ratio',\n",
       "       'frames', 'umem', 'duration', 'size', 'codec_concat_flv-h264',\n",
       "       'codec_concat_vp8-vp8', 'codec_concat_flv-mpeg4',\n",
       "       'codec_concat_flv-vp8', 'codec_concat_h264-flv',\n",
       "       'codec_concat_h264-h264', 'codec_concat_h264-mpeg4',\n",
       "       'codec_concat_h264-vp8', 'codec_concat_mpeg4-h264',\n",
       "       'codec_concat_mpeg4-mpeg4', 'codec_concat_mpeg4-vp8',\n",
       "       'codec_concat_vp8-flv', 'codec_concat_vp8-h264',\n",
       "       'codec_concat_vp8-mpeg4', 'utime'],\n",
       "      dtype='object')"
      ]
     },
     "execution_count": 213,
     "metadata": {},
     "output_type": "execute_result"
    }
   ],
   "source": [
    "df.columns"
   ]
  },
  {
   "cell_type": "code",
   "execution_count": 214,
   "metadata": {},
   "outputs": [
    {
     "name": "stdout",
     "output_type": "stream",
     "text": [
      "Score Train:\n",
      "MAE train:  0.5046216692842757\n",
      "MSE train:  0.4745294163872756\n",
      "RMSE train:  0.6888609557721178\n",
      "r2:  0.9995666770834559\n",
      "\n",
      "\n",
      "Score test:\n",
      "MAE test:  1.6382163790512085\n",
      "MSE test:  8.585617225454934\n",
      "RMSE test:  2.930122390866111\n",
      "r2:  0.9921960056154046\n"
     ]
    }
   ],
   "source": [
    "#DIFF + duration and size + bidummies\n",
    "from sklearn import metrics\n",
    "\n",
    "print(\"Score Train:\")\n",
    "print(\"MAE train: \", metrics.mean_absolute_error(train_y, xgb_r.predict(train_X)))\n",
    "print(\"MSE train: \",metrics.mean_squared_error(train_y, xgb_r.predict(train_X)))\n",
    "print(\"RMSE train: \",np.sqrt(metrics.mean_squared_error(train_y, xgb_r.predict(train_X))))\n",
    "print(\"r2: \",np.sqrt(metrics.r2_score(train_y, xgb_r.predict(train_X))))\n",
    "print(\"\\n\")\n",
    "print(\"Score test:\")\n",
    "print(\"MAE test: \", metrics.mean_absolute_error(test_y, xgb_r.predict(test_X))) \n",
    "print(\"MSE test: \",metrics.mean_squared_error(test_y, xgb_r.predict(test_X)))\n",
    "print(\"RMSE test: \",np.sqrt(metrics.mean_squared_error(test_y, xgb_r.predict(test_X))))\n",
    "print(\"r2: \",np.sqrt(metrics.r2_score(test_y, xgb_r.predict(test_X))))"
   ]
  },
  {
   "cell_type": "code",
   "execution_count": 223,
   "metadata": {},
   "outputs": [],
   "source": [
    "categorical_features=list(range(8,22))"
   ]
  },
  {
   "cell_type": "code",
   "execution_count": 224,
   "metadata": {},
   "outputs": [],
   "source": [
    "%matplotlib inline\n",
    "import matplotlib\n",
    "import matplotlib.pyplot as plt\n",
    "import pandas as pd\n",
    "import numpy as np\n",
    "import seaborn as sns\n",
    "from sklearn.model_selection import train_test_split\n",
    "\n",
    "df_X_train=pd.DataFrame(train_X,columns=df.drop('utime',axis=1).columns)\n"
   ]
  },
  {
   "cell_type": "code",
   "execution_count": 225,
   "metadata": {},
   "outputs": [
    {
     "data": {
      "image/png": "[encoded data removed]",
      "text/plain": [
       "<Figure size 576x684 with 1 Axes>"
      ]
     },
     "metadata": {
      "needs_background": "light"
     },
     "output_type": "display_data"
    }
   ],
   "source": [
    "import shap  \n",
    "\n",
    "explainer_rf = shap.TreeExplainer(xgb_r,categorical_features=categorical_features)\n",
    "shap_values = explainer_rf.shap_values(df_X_train)\n",
    "\n",
    "shap.summary_plot(shap_values, df_X_train, plot_type=\"bar\")\n",
    "\n"
   ]
  },
  {
   "cell_type": "code",
   "execution_count": 226,
   "metadata": {},
   "outputs": [
    {
     "data": {
      "image/png": "[encoded data removed]",
      "text/plain": [
       "<Figure size 576x684 with 2 Axes>"
      ]
     },
     "metadata": {
      "needs_background": "light"
     },
     "output_type": "display_data"
    }
   ],
   "source": [
    "shap.summary_plot(shap_values, df_X_train)"
   ]
  },
  {
   "cell_type": "code",
   "execution_count": null,
   "metadata": {},
   "outputs": [],
   "source": []
  },
  {
   "cell_type": "code",
   "execution_count": null,
   "metadata": {},
   "outputs": [],
   "source": []
  },
  {
   "cell_type": "code",
   "execution_count": 109,
   "metadata": {},
   "outputs": [],
   "source": [
    "actual=test_y.tolist()\n",
    "actual = [float(i) for i in actual]\n",
    "pred = [float(i) for i in pred]"
   ]
  },
  {
   "cell_type": "code",
   "execution_count": 110,
   "metadata": {
    "scrolled": true
   },
   "outputs": [
    {
     "data": {
      "image/png": "[encoded data removed]",
      "text/plain": [
       "<Figure size 432x288 with 1 Axes>"
      ]
     },
     "metadata": {},
     "output_type": "display_data"
    }
   ],
   "source": [
    "diff=[]\n",
    "i=0\n",
    "\n",
    "for p in pred:\n",
    "    diff.append(round(actual[i]-p,3))\n",
    "    i=i+1\n",
    "    \n",
    "plt.scatter(diff,pred)\n",
    "\n",
    "plt.show()"
   ]
  },
  {
   "cell_type": "code",
   "execution_count": 111,
   "metadata": {},
   "outputs": [
    {
     "data": {
      "text/plain": [
       "-0.0805"
      ]
     },
     "execution_count": 111,
     "metadata": {},
     "output_type": "execute_result"
    }
   ],
   "source": [
    "np.median(diff)"
   ]
  },
  {
   "cell_type": "code",
   "execution_count": null,
   "metadata": {},
   "outputs": [],
   "source": []
  },
  {
   "cell_type": "code",
   "execution_count": null,
   "metadata": {},
   "outputs": [],
   "source": []
  },
  {
   "cell_type": "code",
   "execution_count": null,
   "metadata": {},
   "outputs": [],
   "source": []
  },
  {
   "cell_type": "code",
   "execution_count": null,
   "metadata": {},
   "outputs": [],
   "source": []
  },
  {
   "cell_type": "code",
   "execution_count": null,
   "metadata": {},
   "outputs": [],
   "source": []
  },
  {
   "cell_type": "code",
   "execution_count": null,
   "metadata": {},
   "outputs": [],
   "source": []
  },
  {
   "cell_type": "code",
   "execution_count": 126,
   "metadata": {},
   "outputs": [],
   "source": [
    "# Instantiation\n",
    "xgb_r = xg.XGBRegressor()\n",
    "\n",
    "parameters = {'nthread':[-1], #when use hyperthread, xgboost may become slower\n",
    "              'objective' : ['reg:squarederror'],\n",
    "              'learning_rate': [0.05,0.1], #so called `eta` value\n",
    "              'max_depth': [10,20,50],\n",
    "              'min_child_weight': [2,5,10,15],\n",
    "              'colsample_bytree' : [0.3,0.6,0.9],\n",
    "              'n_estimators': [1000,1500,2000], #number of trees, change it to 1000 for better results\n",
    "              'seed': [1337],\n",
    "              'eval_metric': [\"mae\"]}"
   ]
  },
  {
   "cell_type": "code",
   "execution_count": 127,
   "metadata": {
    "scrolled": true
   },
   "outputs": [
    {
     "data": {
      "text/plain": [
       "GridSearchCV(cv=5,\n",
       "             estimator=XGBRegressor(base_score=None, booster=None,\n",
       "                                    colsample_bylevel=None,\n",
       "                                    colsample_bynode=None,\n",
       "                                    colsample_bytree=None, gamma=None,\n",
       "                                    gpu_id=None, importance_type='gain',\n",
       "                                    interaction_constraints=None,\n",
       "                                    learning_rate=None, max_delta_step=None,\n",
       "                                    max_depth=None, min_child_weight=None,\n",
       "                                    missing=nan, monotone_constraints=None,\n",
       "                                    n_estimators=100, n_jobs=...\n",
       "                                    scale_pos_weight=None, subsample=None,\n",
       "                                    tree_method=None, validate_parameters=None,\n",
       "                                    verbosity=None),\n",
       "             n_jobs=5,\n",
       "             param_grid={'colsample_bytree': [0.3, 0.6, 0.9],\n",
       "                         'eval_metric': ['mae'], 'learning_rate': [0.05, 0.1],\n",
       "                         'max_depth': [10, 20, 50],\n",
       "                         'min_child_weight': [2, 5, 10, 15],\n",
       "                         'n_estimators': [1000, 1500, 2000], 'nthread': [-1],\n",
       "                         'objective': ['reg:squarederror'], 'seed': [1337]},\n",
       "             scoring='neg_mean_absolute_error')"
      ]
     },
     "execution_count": 127,
     "metadata": {},
     "output_type": "execute_result"
    }
   ],
   "source": [
    "gs = GridSearchCV(xgb_r, parameters, cv=5, scoring = 'neg_mean_absolute_error', verbose=0, n_jobs=5, refit=True)\n",
    "gs.fit(train_X,train_y)"
   ]
  },
  {
   "cell_type": "code",
   "execution_count": 128,
   "metadata": {},
   "outputs": [
    {
     "data": {
      "text/plain": [
       "{'colsample_bytree': 0.9,\n",
       " 'eval_metric': 'mae',\n",
       " 'learning_rate': 0.1,\n",
       " 'max_depth': 10,\n",
       " 'min_child_weight': 15,\n",
       " 'n_estimators': 2000,\n",
       " 'nthread': -1,\n",
       " 'objective': 'reg:squarederror',\n",
       " 'seed': 1337}"
      ]
     },
     "execution_count": 128,
     "metadata": {},
     "output_type": "execute_result"
    }
   ],
   "source": [
    "gs.best_params_"
   ]
  },
  {
   "cell_type": "code",
   "execution_count": 129,
   "metadata": {},
   "outputs": [
    {
     "data": {
      "text/plain": [
       "-1.8546088114352455"
      ]
     },
     "execution_count": 129,
     "metadata": {},
     "output_type": "execute_result"
    }
   ],
   "source": [
    "gs.best_score_"
   ]
  },
  {
   "cell_type": "code",
   "execution_count": 130,
   "metadata": {},
   "outputs": [
    {
     "name": "stdout",
     "output_type": "stream",
     "text": [
      "RMSE :  3.132673\n"
     ]
    }
   ],
   "source": [
    "# Predict the model\n",
    "pred = gs.predict(test_X)\n",
    "  \n",
    "# RMSE Computation\n",
    "rmse = np.sqrt(MSE(test_y, pred))\n",
    "print(\"RMSE : % f\" %(rmse))"
   ]
  },
  {
   "cell_type": "code",
   "execution_count": 132,
   "metadata": {},
   "outputs": [
    {
     "name": "stdout",
     "output_type": "stream",
     "text": [
      "Score Train:\n",
      "MAE train:  0.339462238230024\n",
      "MSE train:  0.21417012679243716\n",
      "RMSE train:  0.4627851842836341\n",
      "r2:  0.9998044509225029\n",
      "\n",
      "\n",
      "Score test:\n",
      "MAE test:  1.6423119891177282\n",
      "MSE test:  9.813641831042485\n",
      "RMSE test:  3.132673272309528\n",
      "r2:  0.991074755371755\n"
     ]
    }
   ],
   "source": [
    "#BEST ONE UNTIL NOW - SIGNED DIFF + CLASSIC DUMMIES\n",
    "from sklearn import metrics\n",
    "\n",
    "print(\"Score Train:\")\n",
    "print(\"MAE train: \", metrics.mean_absolute_error(train_y, gs.predict(train_X)))\n",
    "print(\"MSE train: \",metrics.mean_squared_error(train_y, gs.predict(train_X)))\n",
    "print(\"RMSE train: \",np.sqrt(metrics.mean_squared_error(train_y, gs.predict(train_X))))\n",
    "print(\"r2: \",np.sqrt(metrics.r2_score(train_y, gs.predict(train_X))))\n",
    "print(\"\\n\")\n",
    "print(\"Score test:\")\n",
    "print(\"MAE test: \", metrics.mean_absolute_error(test_y, gs.predict(test_X))) \n",
    "print(\"MSE test: \",metrics.mean_squared_error(test_y, gs.predict(test_X)))\n",
    "print(\"RMSE test: \",np.sqrt(metrics.mean_squared_error(test_y, gs.predict(test_X))))\n",
    "print(\"r2: \",np.sqrt(metrics.r2_score(test_y, gs.predict(test_X))))"
   ]
  },
  {
   "cell_type": "markdown",
   "metadata": {},
   "source": [
    "-check 5 r2 multicoll dataframe\n",
    "-importanza regressori/colonne superflue/shap values\n",
    "-allestire report\n",
    "-provare modelli\n",
    "\n",
    "provare:\n",
    "-diff colonne\n",
    "\n",
    "        resolution = widthheight - o_widtho_height\n",
    "        framerate = framerate - o_framerate\n",
    "        bitrate = bitrate - o_bitrate\n",
    "        codec = coppie i_o\n",
    "        umem\n",
    "        frames\n",
    "\n",
    "-res/ration only news"
   ]
  }
 ],
 "metadata": {
  "kernelspec": {
   "display_name": "Python 3",
   "language": "python",
   "name": "python3"
  },
  "language_info": {
   "codemirror_mode": {
    "name": "ipython",
    "version": 3
   },
   "file_extension": ".py",
   "mimetype": "text/x-python",
   "name": "python",
   "nbconvert_exporter": "python",
   "pygments_lexer": "ipython3",
   "version": "3.8.8"
  }
 },
 "nbformat": 4,
 "nbformat_minor": 4
}
